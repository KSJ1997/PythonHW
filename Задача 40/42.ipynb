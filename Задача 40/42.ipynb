{
  "nbformat": 4,
  "nbformat_minor": 0,
  "metadata": {
    "colab": {
      "provenance": [],
      "authorship_tag": "ABX9TyPAe1cAMGKEBNroPl4yN85C",
      "include_colab_link": true
    },
    "kernelspec": {
      "name": "python3",
      "display_name": "Python 3"
    },
    "language_info": {
      "name": "python"
    }
  },
  "cells": [
    {
      "cell_type": "markdown",
      "metadata": {
        "id": "view-in-github",
        "colab_type": "text"
      },
      "source": [
        "<a href=\"https://colab.research.google.com/github/KSJ1997/PythonHW/blob/main/%D0%97%D0%B0%D0%B4%D0%B0%D1%87%D0%B0%2040/42.ipynb\" target=\"_parent\"><img src=\"https://colab.research.google.com/assets/colab-badge.svg\" alt=\"Open In Colab\"/></a>"
      ]
    },
    {
      "cell_type": "code",
      "execution_count": null,
      "metadata": {
        "id": "THwz1KM3vqYJ"
      },
      "outputs": [],
      "source": [
        "import pandas as pd"
      ]
    },
    {
      "cell_type": "markdown",
      "source": [
        "Задача 40: Работать с файлом california_housing_train.csv, который находится в папке sample_data. Определить среднюю стоимость дома, где кол-во людей от 0 до 500 (population)."
      ],
      "metadata": {
        "id": "10xjcMLg3FGf"
      }
    },
    {
      "cell_type": "code",
      "source": [
        "print('Средняя стоимость дома, где кол-во людей от 0 до 500 (population):')\n",
        "\n",
        "f = pd.read_csv('sample_data/california_housing_train.csv')\n",
        "\n",
        "f[f['population'] < 500]['median_house_value'].median()"
      ],
      "metadata": {
        "colab": {
          "base_uri": "https://localhost:8080/"
        },
        "id": "WC5SgUojwink",
        "outputId": "e98648f2-8866-4935-f961-744da1cccf61"
      },
      "execution_count": 19,
      "outputs": [
        {
          "output_type": "stream",
          "name": "stdout",
          "text": [
            "Средняя стоимость дома, где кол-во людей от 0 до 500 (population):\n"
          ]
        },
        {
          "output_type": "execute_result",
          "data": {
            "text/plain": [
              "169500.0"
            ]
          },
          "metadata": {},
          "execution_count": 19
        }
      ]
    },
    {
      "cell_type": "markdown",
      "source": [
        "Задача 42: Узнать какая максимальная households в зоне минимального значения population."
      ],
      "metadata": {
        "id": "9uJcHKTO3IZ6"
      }
    },
    {
      "cell_type": "code",
      "source": [
        "print('Максимальная households в зоне минимального значения population:')\n",
        "\n",
        "f = pd.read_csv('sample_data/california_housing_train.csv')\n",
        "\n",
        "f[f['population'] < f['population'].min()*10]['households'].max()"
      ],
      "metadata": {
        "colab": {
          "base_uri": "https://localhost:8080/"
        },
        "id": "zVcqWODv3Lq2",
        "outputId": "4fc8c778-56a1-4ca7-a817-9b4e1cc7b9bd"
      },
      "execution_count": 20,
      "outputs": [
        {
          "output_type": "stream",
          "name": "stdout",
          "text": [
            "Максимальная households в зоне минимального значения population:\n"
          ]
        },
        {
          "output_type": "execute_result",
          "data": {
            "text/plain": [
              "39.0"
            ]
          },
          "metadata": {},
          "execution_count": 20
        }
      ]
    }
  ]
}