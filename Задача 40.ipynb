{
  "nbformat": 4,
  "nbformat_minor": 0,
  "metadata": {
    "colab": {
      "provenance": [],
      "authorship_tag": "ABX9TyOcuLYwtrjIkqt479XbI3sM",
      "include_colab_link": true
    },
    "kernelspec": {
      "name": "python3",
      "display_name": "Python 3"
    },
    "language_info": {
      "name": "python"
    }
  },
  "cells": [
    {
      "cell_type": "markdown",
      "metadata": {
        "id": "view-in-github",
        "colab_type": "text"
      },
      "source": [
        "<a href=\"https://colab.research.google.com/github/KSJ1997/PythonHW/blob/main/%D0%97%D0%B0%D0%B4%D0%B0%D1%87%D0%B0%2040.ipynb\" target=\"_parent\"><img src=\"https://colab.research.google.com/assets/colab-badge.svg\" alt=\"Open In Colab\"/></a>"
      ]
    },
    {
      "cell_type": "code",
      "execution_count": 1,
      "metadata": {
        "id": "THwz1KM3vqYJ"
      },
      "outputs": [],
      "source": [
        "import pandas as pd"
      ]
    },
    {
      "cell_type": "code",
      "source": [
        "print('Средняя стоимость дома, где кол-во людей от 0 до 500 (population):')\n",
        "\n",
        "f = pd.read_csv('sample_data/california_housing_train.csv')\n",
        "\n",
        "print(f[f['population'] < 500]['median_house_value'].median())"
      ],
      "metadata": {
        "colab": {
          "base_uri": "https://localhost:8080/"
        },
        "id": "WC5SgUojwink",
        "outputId": "01d9e081-5ecb-42d6-fbe8-d8639044846f"
      },
      "execution_count": 12,
      "outputs": [
        {
          "output_type": "stream",
          "name": "stdout",
          "text": [
            "Средняя стоимость дома, где кол-во людей от 0 до 500 (population):\n",
            "169500.0\n"
          ]
        }
      ]
    }
  ]
}